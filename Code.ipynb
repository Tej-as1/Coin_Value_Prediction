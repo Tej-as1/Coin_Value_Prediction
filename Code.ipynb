{
 "cells": [
  {
   "cell_type": "code",
   "execution_count": 1,
   "id": "90745f51",
   "metadata": {
    "_cell_guid": "b1076dfc-b9ad-4769-8c92-a6c4dae69d19",
    "_uuid": "8f2839f25d086af736a60e9eeb907d3b93b6e0e5",
    "execution": {
     "iopub.execute_input": "2024-01-08T14:04:17.025255Z",
     "iopub.status.busy": "2024-01-08T14:04:17.024861Z",
     "iopub.status.idle": "2024-01-08T14:04:27.236972Z",
     "shell.execute_reply": "2024-01-08T14:04:27.235908Z"
    },
    "papermill": {
     "duration": 10.221606,
     "end_time": "2024-01-08T14:04:27.239460",
     "exception": false,
     "start_time": "2024-01-08T14:04:17.017854",
     "status": "completed"
    },
    "tags": []
   },
   "outputs": [
    {
     "name": "stdout",
     "output_type": "stream",
     "text": [
      "Requirement already satisfied: xgboost in /opt/conda/lib/python3.10/site-packages (2.0.2)\r\n",
      "Requirement already satisfied: numpy in /opt/conda/lib/python3.10/site-packages (from xgboost) (1.24.3)\r\n",
      "Requirement already satisfied: scipy in /opt/conda/lib/python3.10/site-packages (from xgboost) (1.11.4)\r\n"
     ]
    }
   ],
   "source": [
    "!pip install xgboost"
   ]
  },
  {
   "cell_type": "code",
   "execution_count": 2,
   "id": "0202821e",
   "metadata": {
    "execution": {
     "iopub.execute_input": "2024-01-08T14:04:27.250688Z",
     "iopub.status.busy": "2024-01-08T14:04:27.250344Z",
     "iopub.status.idle": "2024-01-08T14:04:29.881857Z",
     "shell.execute_reply": "2024-01-08T14:04:29.880655Z"
    },
    "papermill": {
     "duration": 2.640205,
     "end_time": "2024-01-08T14:04:29.884658",
     "exception": false,
     "start_time": "2024-01-08T14:04:27.244453",
     "status": "completed"
    },
    "tags": []
   },
   "outputs": [],
   "source": [
    "import os\n",
    "import numpy as np\n",
    "import pandas as pd\n",
    "from PIL import Image\n",
    "from sklearn.model_selection import train_test_split\n",
    "from sklearn.linear_model import LinearRegression\n",
    "from sklearn.metrics import mean_squared_error\n",
    "import cv2\n",
    "from sklearn.ensemble import GradientBoostingRegressor\n",
    "import xgboost as xg\n",
    "from xgboost import XGBRegressor\n",
    "from sklearn.linear_model import ElasticNet, Lasso,  BayesianRidge,LassoLarsIC\n",
    "from sklearn.ensemble import RandomForestRegressor,  GradientBoostingRegressor\n",
    "from sklearn.kernel_ridge import KernelRidge\n",
    "from sklearn.pipeline import make_pipeline\n",
    "from sklearn.preprocessing import RobustScaler\n",
    "from sklearn.base import BaseEstimator, TransformerMixin, RegressorMixin, clone\n",
    "from sklearn.model_selection import KFold, cross_val_score, train_test_split\n",
    "from sklearn.metrics import mean_squared_error\n",
    "import xgboost as xgb\n",
    "import lightgbm as lgb\n",
    "from sklearn.model_selection import GridSearchCV"
   ]
  },
  {
   "cell_type": "markdown",
   "id": "d061e83b",
   "metadata": {
    "papermill": {
     "duration": 0.005615,
     "end_time": "2024-01-08T14:04:29.895165",
     "exception": false,
     "start_time": "2024-01-08T14:04:29.889550",
     "status": "completed"
    },
    "tags": []
   },
   "source": [
    "## We will grayscale and reduce the image size to 28x28 to reduce the dimensionality as we are gonna flattening them."
   ]
  },
  {
   "cell_type": "code",
   "execution_count": 3,
   "id": "be24d47b",
   "metadata": {
    "execution": {
     "iopub.execute_input": "2024-01-08T14:04:29.906104Z",
     "iopub.status.busy": "2024-01-08T14:04:29.905690Z",
     "iopub.status.idle": "2024-01-08T14:04:29.912806Z",
     "shell.execute_reply": "2024-01-08T14:04:29.911987Z"
    },
    "papermill": {
     "duration": 0.014644,
     "end_time": "2024-01-08T14:04:29.914411",
     "exception": false,
     "start_time": "2024-01-08T14:04:29.899767",
     "status": "completed"
    },
    "tags": []
   },
   "outputs": [],
   "source": [
    "def load_images_from_folder(folder_path, resize_shape=(28, 28)):\n",
    "    images = []\n",
    "    labels = []\n",
    "    invalid_files = 0\n",
    "    for filename in os.listdir(folder_path):\n",
    "        img_path = os.path.join(folder_path, filename)\n",
    "        if os.path.isfile(img_path):\n",
    "            exception_occurred = False\n",
    "            label = None  # Initialize label outside the try block\n",
    "            \n",
    "            try:\n",
    "                img = Image.open(img_path).convert('L')  # Convert to grayscale to reduce dimensionality\n",
    "                img = img.resize(resize_shape)  # Resize images to 28x28 pixels to reduce dimensionality as we will flatten them \n",
    "                img_array = np.array(img)\n",
    "                label = int(filename.split('_')[0])\n",
    "            except ValueError:\n",
    "                invalid_files += 1\n",
    "                exception_occurred = True\n",
    "            \n",
    "            if not exception_occurred: \n",
    "                # there are some invalid name files, it's your choice you can rename them if you want, you will get more training data :)))\n",
    "                images.append(img_array.flatten())\n",
    "                labels.append(label)\n",
    "                \n",
    "    return np.array(images), np.array(labels)"
   ]
  },
  {
   "cell_type": "code",
   "execution_count": 4,
   "id": "6bf02c02",
   "metadata": {
    "execution": {
     "iopub.execute_input": "2024-01-08T14:04:29.925657Z",
     "iopub.status.busy": "2024-01-08T14:04:29.925316Z",
     "iopub.status.idle": "2024-01-08T14:04:29.929331Z",
     "shell.execute_reply": "2024-01-08T14:04:29.928489Z"
    },
    "papermill": {
     "duration": 0.012438,
     "end_time": "2024-01-08T14:04:29.931132",
     "exception": false,
     "start_time": "2024-01-08T14:04:29.918694",
     "status": "completed"
    },
    "tags": []
   },
   "outputs": [],
   "source": [
    "folder_path = '/kaggle/input/opencode-23-kaggle-competition/train/Regression'"
   ]
  },
  {
   "cell_type": "code",
   "execution_count": 5,
   "id": "b01b898c",
   "metadata": {
    "execution": {
     "iopub.execute_input": "2024-01-08T14:04:29.943139Z",
     "iopub.status.busy": "2024-01-08T14:04:29.942512Z",
     "iopub.status.idle": "2024-01-08T14:05:21.285477Z",
     "shell.execute_reply": "2024-01-08T14:05:21.284618Z"
    },
    "papermill": {
     "duration": 51.353769,
     "end_time": "2024-01-08T14:05:21.289956",
     "exception": false,
     "start_time": "2024-01-08T14:04:29.936187",
     "status": "completed"
    },
    "tags": []
   },
   "outputs": [
    {
     "data": {
      "text/plain": [
       "((4219, 784), (4219,))"
      ]
     },
     "execution_count": 5,
     "metadata": {},
     "output_type": "execute_result"
    }
   ],
   "source": [
    "X, y = load_images_from_folder(folder_path)\n",
    "X.shape, y.shape\n"
   ]
  },
  {
   "cell_type": "code",
   "execution_count": 6,
   "id": "9489f51d",
   "metadata": {
    "execution": {
     "iopub.execute_input": "2024-01-08T14:05:21.300000Z",
     "iopub.status.busy": "2024-01-08T14:05:21.299729Z",
     "iopub.status.idle": "2024-01-08T14:05:21.305174Z",
     "shell.execute_reply": "2024-01-08T14:05:21.304258Z"
    },
    "papermill": {
     "duration": 0.013196,
     "end_time": "2024-01-08T14:05:21.307730",
     "exception": false,
     "start_time": "2024-01-08T14:05:21.294534",
     "status": "completed"
    },
    "tags": []
   },
   "outputs": [
    {
     "data": {
      "text/plain": [
       "dtype('uint8')"
      ]
     },
     "execution_count": 6,
     "metadata": {},
     "output_type": "execute_result"
    }
   ],
   "source": [
    "X.dtype"
   ]
  },
  {
   "cell_type": "code",
   "execution_count": 7,
   "id": "7d057e8b",
   "metadata": {
    "execution": {
     "iopub.execute_input": "2024-01-08T14:05:21.317622Z",
     "iopub.status.busy": "2024-01-08T14:05:21.317401Z",
     "iopub.status.idle": "2024-01-08T14:05:21.325571Z",
     "shell.execute_reply": "2024-01-08T14:05:21.324985Z"
    },
    "papermill": {
     "duration": 0.014854,
     "end_time": "2024-01-08T14:05:21.327111",
     "exception": false,
     "start_time": "2024-01-08T14:05:21.312257",
     "status": "completed"
    },
    "tags": []
   },
   "outputs": [
    {
     "data": {
      "text/plain": [
       "((3375, 784), (3375,), (844, 784), (844,))"
      ]
     },
     "execution_count": 7,
     "metadata": {},
     "output_type": "execute_result"
    }
   ],
   "source": [
    "X_train, X_test, y_train, y_test = train_test_split(X,y,test_size = .20, random_state = 427)\n",
    "X_train.shape, y_train.shape,X_test.shape, y_test.shape"
   ]
  },
  {
   "cell_type": "code",
   "execution_count": 8,
   "id": "101d965b",
   "metadata": {
    "execution": {
     "iopub.execute_input": "2024-01-08T14:05:21.337511Z",
     "iopub.status.busy": "2024-01-08T14:05:21.337140Z",
     "iopub.status.idle": "2024-01-08T14:05:21.341953Z",
     "shell.execute_reply": "2024-01-08T14:05:21.341212Z"
    },
    "papermill": {
     "duration": 0.011818,
     "end_time": "2024-01-08T14:05:21.343532",
     "exception": false,
     "start_time": "2024-01-08T14:05:21.331714",
     "status": "completed"
    },
    "tags": []
   },
   "outputs": [
    {
     "data": {
      "text/plain": [
       "array([ 50,   5, 130,  25,  50])"
      ]
     },
     "execution_count": 8,
     "metadata": {},
     "output_type": "execute_result"
    }
   ],
   "source": [
    "y_train[:5]"
   ]
  },
  {
   "cell_type": "code",
   "execution_count": 9,
   "id": "d23d9dfa",
   "metadata": {
    "execution": {
     "iopub.execute_input": "2024-01-08T14:05:21.354408Z",
     "iopub.status.busy": "2024-01-08T14:05:21.354088Z",
     "iopub.status.idle": "2024-01-08T14:05:21.357869Z",
     "shell.execute_reply": "2024-01-08T14:05:21.357128Z"
    },
    "papermill": {
     "duration": 0.011124,
     "end_time": "2024-01-08T14:05:21.359468",
     "exception": false,
     "start_time": "2024-01-08T14:05:21.348344",
     "status": "completed"
    },
    "tags": []
   },
   "outputs": [],
   "source": [
    "SEED = 42"
   ]
  },
  {
   "cell_type": "code",
   "execution_count": 10,
   "id": "4ee105a8",
   "metadata": {
    "execution": {
     "iopub.execute_input": "2024-01-08T14:05:21.369918Z",
     "iopub.status.busy": "2024-01-08T14:05:21.369677Z",
     "iopub.status.idle": "2024-01-08T14:05:21.373413Z",
     "shell.execute_reply": "2024-01-08T14:05:21.372728Z"
    },
    "papermill": {
     "duration": 0.010567,
     "end_time": "2024-01-08T14:05:21.374909",
     "exception": false,
     "start_time": "2024-01-08T14:05:21.364342",
     "status": "completed"
    },
    "tags": []
   },
   "outputs": [],
   "source": [
    "def rmse(predictions, targets):\n",
    "    return np.sqrt(((predictions - targets) ** 2).mean())"
   ]
  },
  {
   "cell_type": "code",
   "execution_count": 11,
   "id": "aa24a249",
   "metadata": {
    "execution": {
     "iopub.execute_input": "2024-01-08T14:05:21.385285Z",
     "iopub.status.busy": "2024-01-08T14:05:21.384727Z",
     "iopub.status.idle": "2024-01-08T14:11:19.520076Z",
     "shell.execute_reply": "2024-01-08T14:11:19.518962Z"
    },
    "papermill": {
     "duration": 358.144125,
     "end_time": "2024-01-08T14:11:19.523641",
     "exception": false,
     "start_time": "2024-01-08T14:05:21.379516",
     "status": "completed"
    },
    "tags": []
   },
   "outputs": [
    {
     "name": "stderr",
     "output_type": "stream",
     "text": [
      "/opt/conda/lib/python3.10/site-packages/lightgbm/engine.py:177: UserWarning: Found `num_iterations` in params. Will use it instead of argument\n",
      "  _log_warning(f\"Found `{alias}` in params. Will use it instead of argument\")\n"
     ]
    },
    {
     "data": {
      "text/html": [
       "<style>#sk-container-id-1 {color: black;background-color: white;}#sk-container-id-1 pre{padding: 0;}#sk-container-id-1 div.sk-toggleable {background-color: white;}#sk-container-id-1 label.sk-toggleable__label {cursor: pointer;display: block;width: 100%;margin-bottom: 0;padding: 0.3em;box-sizing: border-box;text-align: center;}#sk-container-id-1 label.sk-toggleable__label-arrow:before {content: \"▸\";float: left;margin-right: 0.25em;color: #696969;}#sk-container-id-1 label.sk-toggleable__label-arrow:hover:before {color: black;}#sk-container-id-1 div.sk-estimator:hover label.sk-toggleable__label-arrow:before {color: black;}#sk-container-id-1 div.sk-toggleable__content {max-height: 0;max-width: 0;overflow: hidden;text-align: left;background-color: #f0f8ff;}#sk-container-id-1 div.sk-toggleable__content pre {margin: 0.2em;color: black;border-radius: 0.25em;background-color: #f0f8ff;}#sk-container-id-1 input.sk-toggleable__control:checked~div.sk-toggleable__content {max-height: 200px;max-width: 100%;overflow: auto;}#sk-container-id-1 input.sk-toggleable__control:checked~label.sk-toggleable__label-arrow:before {content: \"▾\";}#sk-container-id-1 div.sk-estimator input.sk-toggleable__control:checked~label.sk-toggleable__label {background-color: #d4ebff;}#sk-container-id-1 div.sk-label input.sk-toggleable__control:checked~label.sk-toggleable__label {background-color: #d4ebff;}#sk-container-id-1 input.sk-hidden--visually {border: 0;clip: rect(1px 1px 1px 1px);clip: rect(1px, 1px, 1px, 1px);height: 1px;margin: -1px;overflow: hidden;padding: 0;position: absolute;width: 1px;}#sk-container-id-1 div.sk-estimator {font-family: monospace;background-color: #f0f8ff;border: 1px dotted black;border-radius: 0.25em;box-sizing: border-box;margin-bottom: 0.5em;}#sk-container-id-1 div.sk-estimator:hover {background-color: #d4ebff;}#sk-container-id-1 div.sk-parallel-item::after {content: \"\";width: 100%;border-bottom: 1px solid gray;flex-grow: 1;}#sk-container-id-1 div.sk-label:hover label.sk-toggleable__label {background-color: #d4ebff;}#sk-container-id-1 div.sk-serial::before {content: \"\";position: absolute;border-left: 1px solid gray;box-sizing: border-box;top: 0;bottom: 0;left: 50%;z-index: 0;}#sk-container-id-1 div.sk-serial {display: flex;flex-direction: column;align-items: center;background-color: white;padding-right: 0.2em;padding-left: 0.2em;position: relative;}#sk-container-id-1 div.sk-item {position: relative;z-index: 1;}#sk-container-id-1 div.sk-parallel {display: flex;align-items: stretch;justify-content: center;background-color: white;position: relative;}#sk-container-id-1 div.sk-item::before, #sk-container-id-1 div.sk-parallel-item::before {content: \"\";position: absolute;border-left: 1px solid gray;box-sizing: border-box;top: 0;bottom: 0;left: 50%;z-index: -1;}#sk-container-id-1 div.sk-parallel-item {display: flex;flex-direction: column;z-index: 1;position: relative;background-color: white;}#sk-container-id-1 div.sk-parallel-item:first-child::after {align-self: flex-end;width: 50%;}#sk-container-id-1 div.sk-parallel-item:last-child::after {align-self: flex-start;width: 50%;}#sk-container-id-1 div.sk-parallel-item:only-child::after {width: 0;}#sk-container-id-1 div.sk-dashed-wrapped {border: 1px dashed gray;margin: 0 0.4em 0.5em 0.4em;box-sizing: border-box;padding-bottom: 0.4em;background-color: white;}#sk-container-id-1 div.sk-label label {font-family: monospace;font-weight: bold;display: inline-block;line-height: 1.2em;}#sk-container-id-1 div.sk-label-container {text-align: center;}#sk-container-id-1 div.sk-container {/* jupyter's `normalize.less` sets `[hidden] { display: none; }` but bootstrap.min.css set `[hidden] { display: none !important; }` so we also need the `!important` here to be able to override the default hidden behavior on the sphinx rendered scikit-learn.org. See: https://github.com/scikit-learn/scikit-learn/issues/21755 */display: inline-block !important;position: relative;}#sk-container-id-1 div.sk-text-repr-fallback {display: none;}</style><div id=\"sk-container-id-1\" class=\"sk-top-container\"><div class=\"sk-text-repr-fallback\"><pre>VotingRegressor(estimators=[(&#x27;xgb&#x27;,\n",
       "                             XGBRegressor(base_score=None, booster=None,\n",
       "                                          callbacks=None,\n",
       "                                          colsample_bylevel=None,\n",
       "                                          colsample_bynode=None,\n",
       "                                          colsample_bytree=0.6, device=None,\n",
       "                                          early_stopping_rounds=None,\n",
       "                                          enable_categorical=False, eta=0.01,\n",
       "                                          eval_metric=None, feature_types=None,\n",
       "                                          gamma=None, grow_policy=None,\n",
       "                                          importance_type=None,\n",
       "                                          interaction_constraints=None,\n",
       "                                          learn...\n",
       "                                          max_cat_to_onehot=None,\n",
       "                                          max_delta_step=None, max_depth=20,\n",
       "                                          max_leaves=None, min_child_weight=6,\n",
       "                                          missing=nan,\n",
       "                                          monotone_constraints=None,\n",
       "                                          multi_strategy=None,\n",
       "                                          n_estimators=1000, n_jobs=None,\n",
       "                                          nthread=4, ...)),\n",
       "                            (&#x27;lgb&#x27;,\n",
       "                             LGBMRegressor(boosting_type=&#x27;dart&#x27;, max_bin=500,\n",
       "                                           metric=&#x27;rmse&#x27;, num_iterations=3000,\n",
       "                                           num_leaves=100,\n",
       "                                           objective=&#x27;regression&#x27;,\n",
       "                                           reg_alpha=0.1, reg_lambda=0.01))])</pre><b>In a Jupyter environment, please rerun this cell to show the HTML representation or trust the notebook. <br />On GitHub, the HTML representation is unable to render, please try loading this page with nbviewer.org.</b></div><div class=\"sk-container\" hidden><div class=\"sk-item sk-dashed-wrapped\"><div class=\"sk-label-container\"><div class=\"sk-label sk-toggleable\"><input class=\"sk-toggleable__control sk-hidden--visually\" id=\"sk-estimator-id-1\" type=\"checkbox\" ><label for=\"sk-estimator-id-1\" class=\"sk-toggleable__label sk-toggleable__label-arrow\">VotingRegressor</label><div class=\"sk-toggleable__content\"><pre>VotingRegressor(estimators=[(&#x27;xgb&#x27;,\n",
       "                             XGBRegressor(base_score=None, booster=None,\n",
       "                                          callbacks=None,\n",
       "                                          colsample_bylevel=None,\n",
       "                                          colsample_bynode=None,\n",
       "                                          colsample_bytree=0.6, device=None,\n",
       "                                          early_stopping_rounds=None,\n",
       "                                          enable_categorical=False, eta=0.01,\n",
       "                                          eval_metric=None, feature_types=None,\n",
       "                                          gamma=None, grow_policy=None,\n",
       "                                          importance_type=None,\n",
       "                                          interaction_constraints=None,\n",
       "                                          learn...\n",
       "                                          max_cat_to_onehot=None,\n",
       "                                          max_delta_step=None, max_depth=20,\n",
       "                                          max_leaves=None, min_child_weight=6,\n",
       "                                          missing=nan,\n",
       "                                          monotone_constraints=None,\n",
       "                                          multi_strategy=None,\n",
       "                                          n_estimators=1000, n_jobs=None,\n",
       "                                          nthread=4, ...)),\n",
       "                            (&#x27;lgb&#x27;,\n",
       "                             LGBMRegressor(boosting_type=&#x27;dart&#x27;, max_bin=500,\n",
       "                                           metric=&#x27;rmse&#x27;, num_iterations=3000,\n",
       "                                           num_leaves=100,\n",
       "                                           objective=&#x27;regression&#x27;,\n",
       "                                           reg_alpha=0.1, reg_lambda=0.01))])</pre></div></div></div><div class=\"sk-parallel\"><div class=\"sk-parallel-item\"><div class=\"sk-item\"><div class=\"sk-label-container\"><div class=\"sk-label sk-toggleable\"><label>xgb</label></div></div><div class=\"sk-serial\"><div class=\"sk-item\"><div class=\"sk-estimator sk-toggleable\"><input class=\"sk-toggleable__control sk-hidden--visually\" id=\"sk-estimator-id-2\" type=\"checkbox\" ><label for=\"sk-estimator-id-2\" class=\"sk-toggleable__label sk-toggleable__label-arrow\">XGBRegressor</label><div class=\"sk-toggleable__content\"><pre>XGBRegressor(base_score=None, booster=None, callbacks=None,\n",
       "             colsample_bylevel=None, colsample_bynode=None,\n",
       "             colsample_bytree=0.6, device=None, early_stopping_rounds=None,\n",
       "             enable_categorical=False, eta=0.01, eval_metric=None,\n",
       "             feature_types=None, gamma=None, grow_policy=None,\n",
       "             importance_type=None, interaction_constraints=None,\n",
       "             learning_rate=None, max_bin=None, max_cat_threshold=None,\n",
       "             max_cat_to_onehot=None, max_delta_step=None, max_depth=20,\n",
       "             max_leaves=None, min_child_weight=6, missing=nan,\n",
       "             monotone_constraints=None, multi_strategy=None, n_estimators=1000,\n",
       "             n_jobs=None, nthread=4, ...)</pre></div></div></div></div></div></div><div class=\"sk-parallel-item\"><div class=\"sk-item\"><div class=\"sk-label-container\"><div class=\"sk-label sk-toggleable\"><label>lgb</label></div></div><div class=\"sk-serial\"><div class=\"sk-item\"><div class=\"sk-estimator sk-toggleable\"><input class=\"sk-toggleable__control sk-hidden--visually\" id=\"sk-estimator-id-3\" type=\"checkbox\" ><label for=\"sk-estimator-id-3\" class=\"sk-toggleable__label sk-toggleable__label-arrow\">LGBMRegressor</label><div class=\"sk-toggleable__content\"><pre>LGBMRegressor(boosting_type=&#x27;dart&#x27;, max_bin=500, metric=&#x27;rmse&#x27;,\n",
       "              num_iterations=3000, num_leaves=100, objective=&#x27;regression&#x27;,\n",
       "              reg_alpha=0.1, reg_lambda=0.01)</pre></div></div></div></div></div></div></div></div></div></div>"
      ],
      "text/plain": [
       "VotingRegressor(estimators=[('xgb',\n",
       "                             XGBRegressor(base_score=None, booster=None,\n",
       "                                          callbacks=None,\n",
       "                                          colsample_bylevel=None,\n",
       "                                          colsample_bynode=None,\n",
       "                                          colsample_bytree=0.6, device=None,\n",
       "                                          early_stopping_rounds=None,\n",
       "                                          enable_categorical=False, eta=0.01,\n",
       "                                          eval_metric=None, feature_types=None,\n",
       "                                          gamma=None, grow_policy=None,\n",
       "                                          importance_type=None,\n",
       "                                          interaction_constraints=None,\n",
       "                                          learn...\n",
       "                                          max_cat_to_onehot=None,\n",
       "                                          max_delta_step=None, max_depth=20,\n",
       "                                          max_leaves=None, min_child_weight=6,\n",
       "                                          missing=nan,\n",
       "                                          monotone_constraints=None,\n",
       "                                          multi_strategy=None,\n",
       "                                          n_estimators=1000, n_jobs=None,\n",
       "                                          nthread=4, ...)),\n",
       "                            ('lgb',\n",
       "                             LGBMRegressor(boosting_type='dart', max_bin=500,\n",
       "                                           metric='rmse', num_iterations=3000,\n",
       "                                           num_leaves=100,\n",
       "                                           objective='regression',\n",
       "                                           reg_alpha=0.1, reg_lambda=0.01))])"
      ]
     },
     "execution_count": 11,
     "metadata": {},
     "output_type": "execute_result"
    }
   ],
   "source": [
    "from sklearn.ensemble import VotingRegressor\n",
    "from sklearn.ensemble import RandomForestRegressor\n",
    "from sklearn.linear_model import LinearRegression\n",
    "model2 = xg.XGBRegressor(n_estimators=1000, max_depth=20, eta=0.01, subsample=0.8,nthread=4, colsample_bytree=0.6,min_child_weight = 6,\n",
    "                        reg_alpha = 0.1,scale_pos_weight=1,seed=42,reg_lambda = 0.005) #best as of now\n",
    "model3 = lgb.LGBMRegressor(\n",
    "    objective= 'regression',\n",
    "    metric='rmse',\n",
    "    num_leaves= 100,\n",
    "    learning_rate= 0.1,\n",
    "    max_bin=500,\n",
    "    boosting_type='dart',\n",
    "    num_iterations=3000,\n",
    "    reg_alpha=0.1,\n",
    "    reg_lambda=0.01\n",
    ")\n",
    "\n",
    "ensemble = [\n",
    "    ('xgb', model2),\n",
    "    ('lgb', model3)\n",
    "]\n",
    "\n",
    "voting_regressor = VotingRegressor(ensemble)\n",
    "\n",
    "voting_regressor.fit(X_train, y_train)"
   ]
  },
  {
   "cell_type": "code",
   "execution_count": 12,
   "id": "bc3d98a4",
   "metadata": {
    "execution": {
     "iopub.execute_input": "2024-01-08T14:11:19.535075Z",
     "iopub.status.busy": "2024-01-08T14:11:19.534746Z",
     "iopub.status.idle": "2024-01-08T14:11:19.709027Z",
     "shell.execute_reply": "2024-01-08T14:11:19.708235Z"
    },
    "papermill": {
     "duration": 0.182689,
     "end_time": "2024-01-08T14:11:19.711299",
     "exception": false,
     "start_time": "2024-01-08T14:11:19.528610",
     "status": "completed"
    },
    "tags": []
   },
   "outputs": [],
   "source": [
    "y_pred = voting_regressor.predict(X_test)\n",
    "error = rmse(y_pred,y_test)"
   ]
  },
  {
   "cell_type": "code",
   "execution_count": 13,
   "id": "fc5612b2",
   "metadata": {
    "execution": {
     "iopub.execute_input": "2024-01-08T14:11:19.723891Z",
     "iopub.status.busy": "2024-01-08T14:11:19.723435Z",
     "iopub.status.idle": "2024-01-08T14:11:19.727424Z",
     "shell.execute_reply": "2024-01-08T14:11:19.726714Z"
    },
    "papermill": {
     "duration": 0.01172,
     "end_time": "2024-01-08T14:11:19.728909",
     "exception": false,
     "start_time": "2024-01-08T14:11:19.717189",
     "status": "completed"
    },
    "tags": []
   },
   "outputs": [
    {
     "name": "stdout",
     "output_type": "stream",
     "text": [
      "Root Mean Square Error is: 12.430358338967396\n"
     ]
    }
   ],
   "source": [
    "print(f'Root Mean Square Error is: {error}')\n",
    "#On submission, the error reduced to 12.3!"
   ]
  },
  {
   "cell_type": "code",
   "execution_count": 14,
   "id": "7bf89c65",
   "metadata": {
    "execution": {
     "iopub.execute_input": "2024-01-08T14:11:19.740391Z",
     "iopub.status.busy": "2024-01-08T14:11:19.739985Z",
     "iopub.status.idle": "2024-01-08T14:11:19.795254Z",
     "shell.execute_reply": "2024-01-08T14:11:19.794668Z"
    },
    "papermill": {
     "duration": 0.062734,
     "end_time": "2024-01-08T14:11:19.796763",
     "exception": false,
     "start_time": "2024-01-08T14:11:19.734029",
     "status": "completed"
    },
    "tags": []
   },
   "outputs": [
    {
     "data": {
      "text/html": [
       "<div>\n",
       "<style scoped>\n",
       "    .dataframe tbody tr th:only-of-type {\n",
       "        vertical-align: middle;\n",
       "    }\n",
       "\n",
       "    .dataframe tbody tr th {\n",
       "        vertical-align: top;\n",
       "    }\n",
       "\n",
       "    .dataframe thead th {\n",
       "        text-align: right;\n",
       "    }\n",
       "</style>\n",
       "<table border=\"1\" class=\"dataframe\">\n",
       "  <thead>\n",
       "    <tr style=\"text-align: right;\">\n",
       "      <th></th>\n",
       "      <th>id</th>\n",
       "      <th>target</th>\n",
       "    </tr>\n",
       "  </thead>\n",
       "  <tbody>\n",
       "    <tr>\n",
       "      <th>0</th>\n",
       "      <td>1111111112</td>\n",
       "      <td>100</td>\n",
       "    </tr>\n",
       "    <tr>\n",
       "      <th>1</th>\n",
       "      <td>1111111111</td>\n",
       "      <td>5</td>\n",
       "    </tr>\n",
       "    <tr>\n",
       "      <th>2</th>\n",
       "      <td>2222222222</td>\n",
       "      <td>25</td>\n",
       "    </tr>\n",
       "  </tbody>\n",
       "</table>\n",
       "</div>"
      ],
      "text/plain": [
       "           id  target\n",
       "0  1111111112     100\n",
       "1  1111111111       5\n",
       "2  2222222222      25"
      ]
     },
     "execution_count": 14,
     "metadata": {},
     "output_type": "execute_result"
    }
   ],
   "source": [
    "sample_df = pd.read_csv('/kaggle/input/opencode-23-kaggle-competition/sample_submission.csv')\n",
    "sample_df"
   ]
  },
  {
   "cell_type": "code",
   "execution_count": 15,
   "id": "7dc7bb40",
   "metadata": {
    "execution": {
     "iopub.execute_input": "2024-01-08T14:11:19.808958Z",
     "iopub.status.busy": "2024-01-08T14:11:19.808524Z",
     "iopub.status.idle": "2024-01-08T14:11:19.814642Z",
     "shell.execute_reply": "2024-01-08T14:11:19.813877Z"
    },
    "papermill": {
     "duration": 0.014642,
     "end_time": "2024-01-08T14:11:19.816898",
     "exception": false,
     "start_time": "2024-01-08T14:11:19.802256",
     "status": "completed"
    },
    "tags": []
   },
   "outputs": [],
   "source": [
    "def make_predictions(model, folder_path, resize_shape=(28, 28)):\n",
    "    images, filenames = [], []\n",
    "    for filename in os.listdir(folder_path):\n",
    "        img_path = os.path.join(folder_path, filename)\n",
    "        if os.path.isfile(img_path):\n",
    "            try:\n",
    "                # Extract the numeric part of the filename\n",
    "                image_id = int(filename.split('.')[0])  \n",
    "\n",
    "                img = Image.open(img_path).convert('L')  # Convert to grayscale to reduce dimensionality\n",
    "                img = img.resize(resize_shape)  # Resize images to 28x28 pixels to reduce dimensionality as we will flatten them \n",
    "                img_array = np.array(img)\n",
    "                images.append(img_array.flatten())\n",
    "                filenames.append(image_id)\n",
    "            except ValueError:\n",
    "                print(f\"Invalid file: {filename}\")\n",
    "\n",
    "    # Make predictions\n",
    "    predictions = voting_regressor.predict(images)\n",
    "\n",
    "    # Create a DataFrame\n",
    "    df = pd.DataFrame({'id': filenames, 'target': predictions})\n",
    "\n",
    "    return df\n"
   ]
  },
  {
   "cell_type": "code",
   "execution_count": 16,
   "id": "5c3c2355",
   "metadata": {
    "execution": {
     "iopub.execute_input": "2024-01-08T14:11:19.830247Z",
     "iopub.status.busy": "2024-01-08T14:11:19.829966Z",
     "iopub.status.idle": "2024-01-08T14:11:43.041062Z",
     "shell.execute_reply": "2024-01-08T14:11:43.040197Z"
    },
    "papermill": {
     "duration": 23.219422,
     "end_time": "2024-01-08T14:11:43.042814",
     "exception": false,
     "start_time": "2024-01-08T14:11:19.823392",
     "status": "completed"
    },
    "tags": []
   },
   "outputs": [
    {
     "data": {
      "text/html": [
       "<div>\n",
       "<style scoped>\n",
       "    .dataframe tbody tr th:only-of-type {\n",
       "        vertical-align: middle;\n",
       "    }\n",
       "\n",
       "    .dataframe tbody tr th {\n",
       "        vertical-align: top;\n",
       "    }\n",
       "\n",
       "    .dataframe thead th {\n",
       "        text-align: right;\n",
       "    }\n",
       "</style>\n",
       "<table border=\"1\" class=\"dataframe\">\n",
       "  <thead>\n",
       "    <tr style=\"text-align: right;\">\n",
       "      <th></th>\n",
       "      <th>id</th>\n",
       "      <th>target</th>\n",
       "    </tr>\n",
       "  </thead>\n",
       "  <tbody>\n",
       "    <tr>\n",
       "      <th>0</th>\n",
       "      <td>1477285848</td>\n",
       "      <td>18.500121</td>\n",
       "    </tr>\n",
       "    <tr>\n",
       "      <th>1</th>\n",
       "      <td>1477845390</td>\n",
       "      <td>71.248429</td>\n",
       "    </tr>\n",
       "    <tr>\n",
       "      <th>2</th>\n",
       "      <td>1477288176</td>\n",
       "      <td>10.285869</td>\n",
       "    </tr>\n",
       "    <tr>\n",
       "      <th>3</th>\n",
       "      <td>1477789434</td>\n",
       "      <td>24.704851</td>\n",
       "    </tr>\n",
       "    <tr>\n",
       "      <th>4</th>\n",
       "      <td>1477285836</td>\n",
       "      <td>17.352281</td>\n",
       "    </tr>\n",
       "    <tr>\n",
       "      <th>...</th>\n",
       "      <td>...</td>\n",
       "      <td>...</td>\n",
       "    </tr>\n",
       "    <tr>\n",
       "      <th>1804</th>\n",
       "      <td>1477838988</td>\n",
       "      <td>59.387066</td>\n",
       "    </tr>\n",
       "    <tr>\n",
       "      <th>1805</th>\n",
       "      <td>1477852950</td>\n",
       "      <td>87.777913</td>\n",
       "    </tr>\n",
       "    <tr>\n",
       "      <th>1806</th>\n",
       "      <td>1479344748</td>\n",
       "      <td>108.977002</td>\n",
       "    </tr>\n",
       "    <tr>\n",
       "      <th>1807</th>\n",
       "      <td>1479344712</td>\n",
       "      <td>107.727479</td>\n",
       "    </tr>\n",
       "    <tr>\n",
       "      <th>1808</th>\n",
       "      <td>1477835976</td>\n",
       "      <td>72.263366</td>\n",
       "    </tr>\n",
       "  </tbody>\n",
       "</table>\n",
       "<p>1809 rows × 2 columns</p>\n",
       "</div>"
      ],
      "text/plain": [
       "              id      target\n",
       "0     1477285848   18.500121\n",
       "1     1477845390   71.248429\n",
       "2     1477288176   10.285869\n",
       "3     1477789434   24.704851\n",
       "4     1477285836   17.352281\n",
       "...          ...         ...\n",
       "1804  1477838988   59.387066\n",
       "1805  1477852950   87.777913\n",
       "1806  1479344748  108.977002\n",
       "1807  1479344712  107.727479\n",
       "1808  1477835976   72.263366\n",
       "\n",
       "[1809 rows x 2 columns]"
      ]
     },
     "execution_count": 16,
     "metadata": {},
     "output_type": "execute_result"
    }
   ],
   "source": [
    "test_folder_path = \"/kaggle/input/opencode-23-kaggle-competition/test/Regression\"\n",
    "result_df = make_predictions(voting_regressor, test_folder_path)\n",
    "result_df"
   ]
  },
  {
   "cell_type": "code",
   "execution_count": 17,
   "id": "19afbdd3",
   "metadata": {
    "execution": {
     "iopub.execute_input": "2024-01-08T14:11:43.055416Z",
     "iopub.status.busy": "2024-01-08T14:11:43.055145Z",
     "iopub.status.idle": "2024-01-08T14:11:43.064602Z",
     "shell.execute_reply": "2024-01-08T14:11:43.063670Z"
    },
    "papermill": {
     "duration": 0.018394,
     "end_time": "2024-01-08T14:11:43.067180",
     "exception": false,
     "start_time": "2024-01-08T14:11:43.048786",
     "status": "completed"
    },
    "tags": []
   },
   "outputs": [],
   "source": [
    "result_df.to_csv('submission.csv',index = False)"
   ]
  },
  {
   "cell_type": "code",
   "execution_count": 18,
   "id": "6c916803",
   "metadata": {
    "execution": {
     "iopub.execute_input": "2024-01-08T14:11:43.080333Z",
     "iopub.status.busy": "2024-01-08T14:11:43.080105Z",
     "iopub.status.idle": "2024-01-08T14:11:43.090702Z",
     "shell.execute_reply": "2024-01-08T14:11:43.089762Z"
    },
    "papermill": {
     "duration": 0.018784,
     "end_time": "2024-01-08T14:11:43.092403",
     "exception": false,
     "start_time": "2024-01-08T14:11:43.073619",
     "status": "completed"
    },
    "tags": []
   },
   "outputs": [
    {
     "data": {
      "text/html": [
       "<div>\n",
       "<style scoped>\n",
       "    .dataframe tbody tr th:only-of-type {\n",
       "        vertical-align: middle;\n",
       "    }\n",
       "\n",
       "    .dataframe tbody tr th {\n",
       "        vertical-align: top;\n",
       "    }\n",
       "\n",
       "    .dataframe thead th {\n",
       "        text-align: right;\n",
       "    }\n",
       "</style>\n",
       "<table border=\"1\" class=\"dataframe\">\n",
       "  <thead>\n",
       "    <tr style=\"text-align: right;\">\n",
       "      <th></th>\n",
       "      <th>id</th>\n",
       "      <th>target</th>\n",
       "    </tr>\n",
       "  </thead>\n",
       "  <tbody>\n",
       "    <tr>\n",
       "      <th>0</th>\n",
       "      <td>1477285848</td>\n",
       "      <td>18.500121</td>\n",
       "    </tr>\n",
       "    <tr>\n",
       "      <th>1</th>\n",
       "      <td>1477845390</td>\n",
       "      <td>71.248429</td>\n",
       "    </tr>\n",
       "    <tr>\n",
       "      <th>2</th>\n",
       "      <td>1477288176</td>\n",
       "      <td>10.285869</td>\n",
       "    </tr>\n",
       "    <tr>\n",
       "      <th>3</th>\n",
       "      <td>1477789434</td>\n",
       "      <td>24.704851</td>\n",
       "    </tr>\n",
       "    <tr>\n",
       "      <th>4</th>\n",
       "      <td>1477285836</td>\n",
       "      <td>17.352281</td>\n",
       "    </tr>\n",
       "    <tr>\n",
       "      <th>...</th>\n",
       "      <td>...</td>\n",
       "      <td>...</td>\n",
       "    </tr>\n",
       "    <tr>\n",
       "      <th>1804</th>\n",
       "      <td>1477838988</td>\n",
       "      <td>59.387066</td>\n",
       "    </tr>\n",
       "    <tr>\n",
       "      <th>1805</th>\n",
       "      <td>1477852950</td>\n",
       "      <td>87.777913</td>\n",
       "    </tr>\n",
       "    <tr>\n",
       "      <th>1806</th>\n",
       "      <td>1479344748</td>\n",
       "      <td>108.977002</td>\n",
       "    </tr>\n",
       "    <tr>\n",
       "      <th>1807</th>\n",
       "      <td>1479344712</td>\n",
       "      <td>107.727479</td>\n",
       "    </tr>\n",
       "    <tr>\n",
       "      <th>1808</th>\n",
       "      <td>1477835976</td>\n",
       "      <td>72.263366</td>\n",
       "    </tr>\n",
       "  </tbody>\n",
       "</table>\n",
       "<p>1809 rows × 2 columns</p>\n",
       "</div>"
      ],
      "text/plain": [
       "              id      target\n",
       "0     1477285848   18.500121\n",
       "1     1477845390   71.248429\n",
       "2     1477288176   10.285869\n",
       "3     1477789434   24.704851\n",
       "4     1477285836   17.352281\n",
       "...          ...         ...\n",
       "1804  1477838988   59.387066\n",
       "1805  1477852950   87.777913\n",
       "1806  1479344748  108.977002\n",
       "1807  1479344712  107.727479\n",
       "1808  1477835976   72.263366\n",
       "\n",
       "[1809 rows x 2 columns]"
      ]
     },
     "execution_count": 18,
     "metadata": {},
     "output_type": "execute_result"
    }
   ],
   "source": [
    "sub = pd.read_csv('submission.csv')\n",
    "sub"
   ]
  },
  {
   "cell_type": "code",
   "execution_count": 19,
   "id": "f1bf0cff",
   "metadata": {
    "execution": {
     "iopub.execute_input": "2024-01-08T14:11:43.105003Z",
     "iopub.status.busy": "2024-01-08T14:11:43.104751Z",
     "iopub.status.idle": "2024-01-08T14:11:43.776814Z",
     "shell.execute_reply": "2024-01-08T14:11:43.775864Z"
    },
    "papermill": {
     "duration": 0.680647,
     "end_time": "2024-01-08T14:11:43.778867",
     "exception": false,
     "start_time": "2024-01-08T14:11:43.098220",
     "status": "completed"
    },
    "tags": []
   },
   "outputs": [
    {
     "data": {
      "text/plain": [
       "['RegressionModel.pkl']"
      ]
     },
     "execution_count": 19,
     "metadata": {},
     "output_type": "execute_result"
    }
   ],
   "source": [
    "import joblib\n",
    "joblib.dump(voting_regressor,'RegressionModel.pkl')"
   ]
  },
  {
   "cell_type": "code",
   "execution_count": null,
   "id": "75b2e9ce",
   "metadata": {
    "papermill": {
     "duration": 0.006016,
     "end_time": "2024-01-08T14:11:43.791468",
     "exception": false,
     "start_time": "2024-01-08T14:11:43.785452",
     "status": "completed"
    },
    "tags": []
   },
   "outputs": [],
   "source": []
  }
 ],
 "metadata": {
  "kaggle": {
   "accelerator": "none",
   "dataSources": [
    {
     "databundleVersionId": 7266688,
     "sourceId": 65901,
     "sourceType": "competition"
    }
   ],
   "dockerImageVersionId": 30626,
   "isGpuEnabled": false,
   "isInternetEnabled": true,
   "language": "python",
   "sourceType": "notebook"
  },
  "kernelspec": {
   "display_name": "Python 3",
   "language": "python",
   "name": "python3"
  },
  "language_info": {
   "codemirror_mode": {
    "name": "ipython",
    "version": 3
   },
   "file_extension": ".py",
   "mimetype": "text/x-python",
   "name": "python",
   "nbconvert_exporter": "python",
   "pygments_lexer": "ipython3",
   "version": "3.10.12"
  },
  "papermill": {
   "default_parameters": {},
   "duration": 449.95846,
   "end_time": "2024-01-08T14:11:44.619035",
   "environment_variables": {},
   "exception": null,
   "input_path": "__notebook__.ipynb",
   "output_path": "__notebook__.ipynb",
   "parameters": {},
   "start_time": "2024-01-08T14:04:14.660575",
   "version": "2.4.0"
  }
 },
 "nbformat": 4,
 "nbformat_minor": 5
}
